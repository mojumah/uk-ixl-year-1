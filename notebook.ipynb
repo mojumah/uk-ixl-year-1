{
 "cells": [
  {
   "cell_type": "markdown",
   "id": "59ac34c8",
   "metadata": {},
   "source": [
    "# Reception Student Notebook "
   ]
  },
  {
   "cell_type": "markdown",
   "id": "dfedc6bc",
   "metadata": {},
   "source": [
    "\\begin{gather*}\n",
    "x=y + z\\\\\n",
    "\\end{gather*}"
   ]
  },
  {
   "cell_type": "markdown",
   "id": "d617fcb1",
   "metadata": {},
   "source": [
    "\\begin{gather*}\n",
    "2 = 1 + 1\\\\\n",
    "\\end{gather*}"
   ]
  }
 ],
 "metadata": {
  "kernelspec": {
   "display_name": "Python 3 (ipykernel)",
   "language": "python",
   "name": "python3"
  },
  "language_info": {
   "codemirror_mode": {
    "name": "ipython",
    "version": 3
   },
   "file_extension": ".py",
   "mimetype": "text/x-python",
   "name": "python",
   "nbconvert_exporter": "python",
   "pygments_lexer": "ipython3",
   "version": "3.11.2"
  }
 },
 "nbformat": 4,
 "nbformat_minor": 5
}
