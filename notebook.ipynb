{
 "cells": [
  {
   "cell_type": "markdown",
   "id": "59ac34c8",
   "metadata": {},
   "source": [
    "# Reception Student Notebook "
   ]
  },
  {
   "cell_type": "markdown",
   "id": "dfedc6bc",
   "metadata": {},
   "source": [
    "\\begin{gather*}\n",
    "x=y + z\\\\\n",
    "\\end{gather*}"
   ]
  },
  {
   "cell_type": "markdown",
   "id": "d617fcb1",
   "metadata": {},
   "source": [
    "\\begin{gather*}\n",
    "2 = 1 + 1\\\\\n",
    "\\end{gather*}"
   ]
  },
  {
   "cell_type": "code",
   "execution_count": 2,
   "id": "63a8edc5",
   "metadata": {},
   "outputs": [
    {
     "ename": "NameError",
     "evalue": "name 'successfull' is not defined",
     "output_type": "error",
     "traceback": [
      "\u001b[1;31m---------------------------------------------------------------------------\u001b[0m",
      "\u001b[1;31mNameError\u001b[0m                                 Traceback (most recent call last)",
      "Cell \u001b[1;32mIn[2], line 1\u001b[0m\n\u001b[1;32m----> 1\u001b[0m \u001b[38;5;124m'\u001b[39m\u001b[38;5;124msuccess\u001b[39m\u001b[38;5;124m'\u001b[39m \u001b[38;5;241m+\u001b[39m \u001b[38;5;124m'\u001b[39m\u001b[38;5;124mfull\u001b[39m\u001b[38;5;124m'\u001b[39m \u001b[38;5;241m==\u001b[39m \u001b[43msuccessfull\u001b[49m\n",
      "\u001b[1;31mNameError\u001b[0m: name 'successfull' is not defined"
     ]
    }
   ],
   "source": [
    "'success' + 'full' == successfull"
   ]
  },
  {
   "cell_type": "code",
   "execution_count": 7,
   "id": "70f53243",
   "metadata": {
    "scrolled": false
   },
   "outputs": [
    {
     "name": "stdout",
     "output_type": "stream",
     "text": [
      "successfull\n"
     ]
    }
   ],
   "source": [
    "x = 'success'\n",
    "y = 'full'\n",
    "z = x + y\n",
    "print (z)"
   ]
  },
  {
   "cell_type": "code",
   "execution_count": 16,
   "id": "d9830301",
   "metadata": {
    "scrolled": true
   },
   "outputs": [
    {
     "ename": "SyntaxError",
     "evalue": "invalid syntax (521683746.py, line 19)",
     "output_type": "error",
     "traceback": [
      "\u001b[1;36m  Cell \u001b[1;32mIn[16], line 19\u001b[1;36m\u001b[0m\n\u001b[1;33m    print (xyz) print(\"!\")\u001b[0m\n\u001b[1;37m                ^\u001b[0m\n\u001b[1;31mSyntaxError\u001b[0m\u001b[1;31m:\u001b[0m invalid syntax\n"
     ]
    }
   ],
   "source": [
    "x = input('spell the first syllable of the word your teacher tells you ')\n",
    "if x == 'beau':\n",
    "    print('correct')\n",
    "else:\n",
    "    print('try again')\n",
    "y = input('spell the second syllable of the word your teacher tells you ')\n",
    "if y == 'ti':\n",
    "    print('correct')\n",
    "else:\n",
    "    print('try again')\n",
    "z = input('spell the third syllable of the word your teacher tells you ')\n",
    "if z == 'full':\n",
    "    print('correct')\n",
    "else:\n",
    "    print('try again')\n",
    "    \n",
    "print(\"well done\")\n",
    "xyz = x + y + z\n",
    "print (xyz)"
   ]
  },
  {
   "cell_type": "code",
   "execution_count": null,
   "id": "8d9ba594",
   "metadata": {},
   "outputs": [],
   "source": []
  }
 ],
 "metadata": {
  "kernelspec": {
   "display_name": "Python 3 (ipykernel)",
   "language": "python",
   "name": "python3"
  },
  "language_info": {
   "codemirror_mode": {
    "name": "ipython",
    "version": 3
   },
   "file_extension": ".py",
   "mimetype": "text/x-python",
   "name": "python",
   "nbconvert_exporter": "python",
   "pygments_lexer": "ipython3",
   "version": "3.11.2"
  }
 },
 "nbformat": 4,
 "nbformat_minor": 5
}
