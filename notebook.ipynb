{
 "cells": [
  {
   "cell_type": "markdown",
   "id": "59ac34c8",
   "metadata": {},
   "source": [
    "# Reception Student Notebook "
   ]
  },
  {
   "cell_type": "markdown",
   "id": "dfedc6bc",
   "metadata": {},
   "source": [
    "\\begin{gather*}\n",
    "x=y + z\\\\\n",
    "\\end{gather*}"
   ]
  },
  {
   "cell_type": "markdown",
   "id": "d617fcb1",
   "metadata": {},
   "source": [
    "\\begin{gather*}\n",
    "2 = 1 + 1\\\\\n",
    "\\end{gather*}"
   ]
  },
  {
   "cell_type": "code",
   "execution_count": 2,
   "id": "b1112b3a",
   "metadata": {},
   "outputs": [
    {
     "ename": "NameError",
     "evalue": "name 'successfull' is not defined",
     "output_type": "error",
     "traceback": [
      "\u001b[1;31m---------------------------------------------------------------------------\u001b[0m",
      "\u001b[1;31mNameError\u001b[0m                                 Traceback (most recent call last)",
      "Cell \u001b[1;32mIn[2], line 1\u001b[0m\n\u001b[1;32m----> 1\u001b[0m \u001b[38;5;124m'\u001b[39m\u001b[38;5;124msuccess\u001b[39m\u001b[38;5;124m'\u001b[39m \u001b[38;5;241m+\u001b[39m \u001b[38;5;124m'\u001b[39m\u001b[38;5;124mfull\u001b[39m\u001b[38;5;124m'\u001b[39m \u001b[38;5;241m==\u001b[39m \u001b[43msuccessfull\u001b[49m\n",
      "\u001b[1;31mNameError\u001b[0m: name 'successfull' is not defined"
     ]
    }
   ],
   "source": [
    "'success' + 'full' == successfull"
   ]
  },
  {
   "cell_type": "code",
   "execution_count": 4,
   "id": "b98bef16",
   "metadata": {},
   "outputs": [],
   "source": [
    "x = 'success'\n",
    "y = 'full'\n",
    "z = x + y\n",
    "print (z)"
   ]
  },
  {
   "cell_type": "code",
   "execution_count": null,
   "id": "4ba80853",
   "metadata": {},
   "outputs": [],
   "source": []
  }
 ],
 "metadata": {
  "kernelspec": {
   "display_name": "Python 3 (ipykernel)",
   "language": "python",
   "name": "python3"
  },
  "language_info": {
   "codemirror_mode": {
    "name": "ipython",
    "version": 3
   },
   "file_extension": ".py",
   "mimetype": "text/x-python",
   "name": "python",
   "nbconvert_exporter": "python",
   "pygments_lexer": "ipython3",
   "version": "3.11.2"
  }
 },
 "nbformat": 4,
 "nbformat_minor": 5
}
